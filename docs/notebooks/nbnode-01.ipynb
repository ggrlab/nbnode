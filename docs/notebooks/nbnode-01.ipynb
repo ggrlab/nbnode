{
 "cells": [
  {
   "attachments": {},
   "cell_type": "markdown",
   "metadata": {},
   "source": [
    "#### ASdf\n"
   ]
  },
  {
   "cell_type": "code",
   "execution_count": null,
   "metadata": {},
   "outputs": [],
   "source": [
    "from nbnode.nbnode import NBNode\n",
    "# Create the root node \"a\"\n",
    "mytree = NBNode(\"a\")\n",
    "# Create the node \"a0\" which \n",
    "#  - Is a child of \"mytree\" \n",
    "#  - Has the decision_name \"m1\" \n",
    "#  - Has the decision_value -1\n",
    "NBNode(\"a0\", parent=mytree, decision_value=-1, decision_name=\"m1\")\n",
    "\n",
    "a1 = NBNode(\"a1\", parent=mytree, decision_value=1, decision_name=\"m1\")\n",
    "\n",
    "# Create the node \"a2\" which \n",
    "#  - Is a child of \"mytree\" \n",
    "#  - Has the decision_name \"m3\" \n",
    "#  - Has the decision_value \"another\"\n",
    "NBNode(\"a2\", parent=mytree, decision_value=\"another\", decision_name=\"m3\")\n",
    "NBNode(\"a1a\", parent=a1, decision_value=\"test\", decision_name=\"m2\")"
   ]
  }
 ],
 "metadata": {
  "kernelspec": {
   "display_name": "Python 3 (ipykernel)",
   "language": "python",
   "name": "python3"
  },
  "language_info": {
   "codemirror_mode": {
    "name": "ipython",
    "version": 3
   },
   "file_extension": ".py",
   "mimetype": "text/x-python",
   "name": "python",
   "nbconvert_exporter": "python",
   "pygments_lexer": "ipython3",
   "version": "3.8.16"
  },
  "varInspector": {
   "cols": {
    "lenName": 16,
    "lenType": 16,
    "lenVar": 40
   },
   "kernels_config": {
    "python": {
     "delete_cmd_postfix": "",
     "delete_cmd_prefix": "del ",
     "library": "var_list.py",
     "varRefreshCmd": "print(var_dic_list())"
    },
    "r": {
     "delete_cmd_postfix": ") ",
     "delete_cmd_prefix": "rm(",
     "library": "var_list.r",
     "varRefreshCmd": "cat(var_dic_list()) "
    }
   },
   "types_to_exclude": [
    "module",
    "function",
    "builtin_function_or_method",
    "instance",
    "_Feature"
   ],
   "window_display": false
  }
 },
 "nbformat": 4,
 "nbformat_minor": 2
}
